{
 "cells": [
  {
   "cell_type": "code",
   "execution_count": 9,
   "metadata": {},
   "outputs": [
    {
     "name": "stdout",
     "output_type": "stream",
     "text": [
      "Successfully calculated.\n",
      "=== === ===\n",
      "Cannot divide by zero.\n"
     ]
    }
   ],
   "source": [
    "try:\n",
    "    result = 6 / 1\n",
    "    print(\"Successfully calculated.\")\n",
    "except Exception as e:\n",
    "    # Handle the exception and try running different code\n",
    "    print(\"Cannot divide by zero.\")\n",
    "\n",
    "print(\"=== === ===\")\n",
    "\n",
    "try:\n",
    "    result = 6 / 0\n",
    "    print(\"Successfully calculated.\")\n",
    "except Exception as e:\n",
    "    # Handle the exception and try running different code\n",
    "    print(\"Cannot divide by zero.\")"
   ]
  },
  {
   "cell_type": "code",
   "execution_count": 15,
   "metadata": {},
   "outputs": [
    {
     "name": "stdout",
     "output_type": "stream",
     "text": [
      "Loss:\n",
      "tensor(9., grad_fn=<SumBackward0>)\n",
      "Gradients of the tensor after backward:\n",
      "tensor([[-1., -0., -1., -0., -1.]])\n"
     ]
    }
   ],
   "source": [
    "import torch\n",
    "import torch.nn as nn\n",
    "\n",
    "class NonNegLoss(nn.Module):\n",
    "    def __init__(self):\n",
    "        super(NonNegLoss, self).__init__()\n",
    "\n",
    "    def forward(self, tensor):\n",
    "        return torch.sum(torch.relu(-tensor))\n",
    "\n",
    "# Create a sample tensor (replace this with your actual tensor)\n",
    "sample_tensor = torch.tensor([[-1, 2, -3, 4, -5]], dtype=torch.float32, requires_grad=True)\n",
    "\n",
    "# Create an instance of NonNegLoss\n",
    "non_neg_loss = NonNegLoss()\n",
    "\n",
    "# Calculate the non-negativity loss\n",
    "loss = non_neg_loss(sample_tensor)\n",
    "print(\"Loss:\")\n",
    "print(loss)\n",
    "\n",
    "# Backpropagation to compute gradients\n",
    "loss.backward()\n",
    "\n",
    "# Check the gradients of the tensor (gradients should be updated after backward)\n",
    "print(\"Gradients of the tensor after backward:\")\n",
    "print(sample_tensor.grad)\n"
   ]
  },
  {
   "cell_type": "code",
   "execution_count": 14,
   "metadata": {},
   "outputs": [
    {
     "name": "stdout",
     "output_type": "stream",
     "text": [
      "6\n"
     ]
    }
   ],
   "source": [
    "a = 1 + \\\n",
    "    2 + \\\n",
    "    3\n",
    "print(a)"
   ]
  },
  {
   "cell_type": "code",
   "execution_count": 11,
   "metadata": {},
   "outputs": [
    {
     "name": "stdout",
     "output_type": "stream",
     "text": [
      "[[1]\n",
      " [2]\n",
      " [3]]\n",
      "[[4]\n",
      " [2]\n",
      " [3]]\n"
     ]
    }
   ],
   "source": [
    "import copy\n",
    "import numpy as np\n",
    "\n",
    "x = np.array([[1], [2], [3]])\n",
    "# x = [[1], [2], [3]]\n",
    "\n",
    "# Create a shallow copy of x\n",
    "y = copy.deepcopy(x)\n",
    "y = x.copy()\n",
    "\n",
    "# Modify the shallow copy\n",
    "y[0][0] = 4\n",
    "\n",
    "# Print the original object and the shallow copy\n",
    "print(x)\n",
    "print(y)"
   ]
  },
  {
   "cell_type": "code",
   "execution_count": 1,
   "metadata": {},
   "outputs": [
    {
     "name": "stdout",
     "output_type": "stream",
     "text": [
      "[0.11920292 0.26894142 0.5        0.73105858 0.23425302]\n"
     ]
    }
   ],
   "source": [
    "import numpy as np\n",
    "\n",
    "def sigmoid(x):\n",
    "    return 1 / (1 + np.exp(-x))\n",
    "\n",
    "# Example usage\n",
    "x_values = np.array([-2, -1, 0, 1, -1.18445])\n",
    "sigmoid_values = sigmoid(x_values)\n",
    "\n",
    "print(sigmoid_values)\n"
   ]
  },
  {
   "cell_type": "code",
   "execution_count": 3,
   "metadata": {},
   "outputs": [
    {
     "data": {
      "text/plain": [
       "array([  0,  45,  90, 135, 180, 225, 270, 315])"
      ]
     },
     "execution_count": 3,
     "metadata": {},
     "output_type": "execute_result"
    }
   ],
   "source": [
    "np.repeat(np.arange(0, 360, 45), 1)"
   ]
  }
 ],
 "metadata": {
  "kernelspec": {
   "display_name": "nest",
   "language": "python",
   "name": "python3"
  },
  "language_info": {
   "codemirror_mode": {
    "name": "ipython",
    "version": 3
   },
   "file_extension": ".py",
   "mimetype": "text/x-python",
   "name": "python",
   "nbconvert_exporter": "python",
   "pygments_lexer": "ipython3",
   "version": "3.11.5"
  },
  "orig_nbformat": 4
 },
 "nbformat": 4,
 "nbformat_minor": 2
}
